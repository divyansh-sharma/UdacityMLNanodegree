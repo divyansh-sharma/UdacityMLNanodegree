{
 "cells": [
  {
   "cell_type": "code",
   "execution_count": null,
   "metadata": {
    "collapsed": true
   },
   "outputs": [],
   "source": [
    "#load the best model\n",
    "from keras.models import load_model\n",
    "best_model=load_model('VGG16-transferlearning_augmented.model')"
   ]
  },
  {
   "cell_type": "code",
   "execution_count": null,
   "metadata": {
    "collapsed": true
   },
   "outputs": [],
   "source": [
    "#save validation predictions over validation text data (x_test,y_test) are validation data of 459 size\n",
    "valid_pred=model_try.predict(x_test)"
   ]
  },
  {
   "cell_type": "code",
   "execution_count": null,
   "metadata": {
    "collapsed": true
   },
   "outputs": [],
   "source": [
    "#check the AUROC score from scikit learn using validation data\n",
    "from sklearn.metrics import roc_auc_score\n",
    "roc_auc_score(y_test,valid_pred)"
   ]
  },
  {
   "cell_type": "code",
   "execution_count": null,
   "metadata": {
    "collapsed": true
   },
   "outputs": [],
   "source": [
    "#optional : check loss using evaluate function from keras outputs a 2 size array \n",
    "#[0.054381854325423348, 0.98257080610021785] log loss and accuracy score using the best model respectively\n",
    "loss=best_model.evaluate(x_test,y_test)"
   ]
  },
  {
   "cell_type": "code",
   "execution_count": null,
   "metadata": {
    "collapsed": true
   },
   "outputs": [],
   "source": [
    "#convert probabilities to classes for checking validation accuracy\n",
    "def pred_class(proba):\n",
    "    if proba.shape[-1] > 1:\n",
    "            return proba.argmax(axis=-1)\n",
    "    else:\n",
    "            return (proba > 0.5).astype('int32')\n",
    "classes_valid=pred_class(pred_again)"
   ]
  },
  {
   "cell_type": "code",
   "execution_count": null,
   "metadata": {
    "collapsed": true
   },
   "outputs": [],
   "source": [
    "#get some correct and incorrect labels\n",
    "#correct length : 451\n",
    "#incorrect length : 8\n",
    "correct,incorrect=[],[]\n",
    "for i in range(len(y_test)):\n",
    "    if(y_test[i]==classes_valid[i]):\n",
    "        correct.append(i)\n",
    "    else :\n",
    "        incorrect.append(i)\n",
    "print(len(correct))\n",
    "print(len(incorrect))"
   ]
  },
  {
   "cell_type": "code",
   "execution_count": null,
   "metadata": {
    "collapsed": true
   },
   "outputs": [],
   "source": [
    "# label 0 as NOT INVASIVE and 1 as INVASIVE\n",
    "# done for better visualisation of class name in confusion matrix \n",
    "# y_true is nothing but our target validation data with 0 labeled as NOT INVASIVE and 1 as INVASIVE\n",
    "# y_pred is nothing but our predicted value for validation data with 0 labeled as NOT INVASIVE and 1 as INVASIVE\n",
    "y_true,y_pred=[],[]\n",
    "for i in range(len(yy_test)):\n",
    "    if(y_test[i]==0):\n",
    "        y_true.append('NOT INVASIVE')\n",
    "    else :\n",
    "        y_true.append('INVASIVE')\n",
    "for i in range(len(classes_valid)):\n",
    "    if(classes_valid[i]==0):\n",
    "        y_pred.append('NOT INVASIVE')\n",
    "    else :\n",
    "        y_pred.append('INVASIVE')"
   ]
  },
  {
   "cell_type": "code",
   "execution_count": null,
   "metadata": {
    "collapsed": true
   },
   "outputs": [],
   "source": [
    "from sklearn.metrics import confusion_matrix\n",
    "import itertools\n",
    "import numpy as np\n",
    "import matplotlib.pyplot as plt\n",
    "\n",
    "from sklearn import svm, datasets\n",
    "from sklearn.model_selection import train_test_split\n",
    "from sklearn.metrics import confusion_matrix\n",
    "#class names to show in confusion matrix\n",
    "class_names=['INVASIVE','NOT INVASIVE']\n",
    "def plot_confusion_matrix(cm, classes,\n",
    "                          normalize=False,\n",
    "                          title='Confusion matrix',\n",
    "                          cmap=plt.cm.Blues):\n",
    "    \"\"\"\n",
    "    This function prints and plots the confusion matrix.\n",
    "    Normalization can be applied by setting `normalize=True`.\n",
    "    \"\"\"\n",
    "    plt.imshow(cm, interpolation='nearest', cmap=cmap)\n",
    "    plt.title(title)\n",
    "    plt.colorbar()\n",
    "    tick_marks = np.arange(len(classes))\n",
    "    plt.xticks(tick_marks, classes, rotation=45)\n",
    "    plt.yticks(tick_marks, classes)\n",
    "\n",
    "    if normalize:\n",
    "        cm = cm.astype('float') / cm.sum(axis=1)[:, np.newaxis]\n",
    "        print(\"Normalized confusion matrix\")\n",
    "    else:\n",
    "        print('Confusion matrix, without normalization')\n",
    "\n",
    "    print(cm)\n",
    "\n",
    "    thresh = cm.max() / 2.\n",
    "    for i, j in itertools.product(range(cm.shape[0]), range(cm.shape[1])):\n",
    "        plt.text(j, i, cm[i, j],\n",
    "                 horizontalalignment=\"center\",\n",
    "                 color=\"white\" if cm[i, j] > thresh else \"black\")\n",
    "\n",
    "    plt.tight_layout()\n",
    "    plt.ylabel('True label')\n",
    "    plt.xlabel('Predicted label')\n",
    "\n",
    "cnf_matrix = confusion_matrix(y_true,y_pred)\n",
    "np.set_printoptions(precision=2)\n",
    "\n",
    "# Plot non-normalized confusion matrix\n",
    "plt.figure()\n",
    "plot_confusion_matrix(cnf_matrix, classes=class_names,\n",
    "                      title='Confusion matrix, without normalization')\n",
    "plt.savefig('consufion_matrix_normal.png')\n",
    "# Plot normalized confusion matrix\n",
    "plt.figure()\n",
    "plot_confusion_matrix(cnf_matrix, classes=class_names, normalize=True,\n",
    "                      title='Normalized confusion matrix')\n",
    "plt.savefig('consufion_matrix_normalized.png')\n",
    "plt.show()"
   ]
  },
  {
   "cell_type": "code",
   "execution_count": null,
   "metadata": {
    "collapsed": true
   },
   "outputs": [],
   "source": [
    "# save some incorrect labels\n",
    "for i in incorrect :\n",
    "    plt.imshow(x[i+1])\n",
    "    plt.savefig('incorrect_'+str(i+1)+'.png', bbox_inches='tight')"
   ]
  },
  {
   "cell_type": "code",
   "execution_count": null,
   "metadata": {
    "collapsed": true
   },
   "outputs": [],
   "source": [
    "# save some correct labels\n",
    "countr=0\n",
    "for i in correct :\n",
    "   countr=countr+1 \n",
    "   plt.imshow(xx[i+1])\n",
    "   plt.savefig('correct_'+str(i+1)+'.png', bbox_inches='tight')\n",
    "   if(countr==4):\n",
    "        break"
   ]
  }
 ],
 "metadata": {
  "kernelspec": {
   "display_name": "Python [conda env:tensorflow]",
   "language": "python",
   "name": "conda-env-tensorflow-py"
  },
  "language_info": {
   "codemirror_mode": {
    "name": "ipython",
    "version": 3
   },
   "file_extension": ".py",
   "mimetype": "text/x-python",
   "name": "python",
   "nbconvert_exporter": "python",
   "pygments_lexer": "ipython3",
   "version": "3.5.3"
  }
 },
 "nbformat": 4,
 "nbformat_minor": 1
}
