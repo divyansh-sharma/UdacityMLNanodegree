{
 "cells": [
  {
   "cell_type": "markdown",
   "metadata": {
    "collapsed": true
   },
   "source": [
    "# Image Classification\n",
    "In this project, you'll classify images from the [CIFAR-10 dataset](https://www.cs.toronto.edu/~kriz/cifar.html).  The dataset consists of airplanes, dogs, cats, and other objects. You'll preprocess the images, then train a convolutional neural network on all the samples. The images need to be normalized and the labels need to be one-hot encoded.  You'll get to apply what you learned and build a convolutional, max pooling, dropout, and fully connected layers.  At the end, you'll get to see your neural network's predictions on the sample images.\n",
    "## Get the Data\n",
    "Run the following cell to download the [CIFAR-10 dataset for python](https://www.cs.toronto.edu/~kriz/cifar-10-python.tar.gz)."
   ]
  },
  {
   "cell_type": "code",
   "execution_count": 3,
   "metadata": {
    "collapsed": false
   },
   "outputs": [
    {
     "name": "stderr",
     "output_type": "stream",
     "text": [
      "CIFAR-10 Dataset: 171MB [04:47, 592KB/s]                                       \n"
     ]
    },
    {
     "name": "stdout",
     "output_type": "stream",
     "text": [
      "All files found!\n"
     ]
    }
   ],
   "source": [
    "\"\"\"\n",
    "DON'T MODIFY ANYTHING IN THIS CELL THAT IS BELOW THIS LINE\n",
    "\"\"\"\n",
    "from urllib.request import urlretrieve\n",
    "from os.path import isfile, isdir\n",
    "from tqdm import tqdm\n",
    "import problem_unittests as tests\n",
    "import tarfile\n",
    "\n",
    "cifar10_dataset_folder_path = 'cifar-10-batches-py'\n",
    "\n",
    "class DLProgress(tqdm):\n",
    "    last_block = 0\n",
    "\n",
    "    def hook(self, block_num=1, block_size=1, total_size=None):\n",
    "        self.total = total_size\n",
    "        self.update((block_num - self.last_block) * block_size)\n",
    "        self.last_block = block_num\n",
    "\n",
    "if not isfile('cifar-10-python.tar.gz'):\n",
    "    with DLProgress(unit='B', unit_scale=True, miniters=1, desc='CIFAR-10 Dataset') as pbar:\n",
    "        urlretrieve(\n",
    "            'https://www.cs.toronto.edu/~kriz/cifar-10-python.tar.gz',\n",
    "            'cifar-10-python.tar.gz',\n",
    "            pbar.hook)\n",
    "\n",
    "if not isdir(cifar10_dataset_folder_path):\n",
    "    with tarfile.open('cifar-10-python.tar.gz') as tar:\n",
    "        tar.extractall()\n",
    "        tar.close()\n",
    "\n",
    "\n",
    "tests.test_folder_path(cifar10_dataset_folder_path)"
   ]
  },
  {
   "cell_type": "markdown",
   "metadata": {},
   "source": [
    "## Explore the Data\n",
    "The dataset is broken into batches to prevent your machine from running out of memory.  The CIFAR-10 dataset consists of 5 batches, named `data_batch_1`, `data_batch_2`, etc.. Each batch contains the labels and images that are one of the following:\n",
    "* airplane\n",
    "* automobile\n",
    "* bird\n",
    "* cat\n",
    "* deer\n",
    "* dog\n",
    "* frog\n",
    "* horse\n",
    "* ship\n",
    "* truck\n",
    "\n",
    "Understanding a dataset is part of making predictions on the data.  Play around with the code cell below by changing the `batch_id` and `sample_id`. The `batch_id` is the id for a batch (1-5). The `sample_id` is the id for a image and label pair in the batch.\n",
    "\n",
    "Ask yourself \"What are all possible labels?\", \"What is the range of values for the image data?\", \"Are the labels in order or random?\".  Answers to questions like these will help you preprocess the data and end up with better predictions."
   ]
  },
  {
   "cell_type": "code",
   "execution_count": 9,
   "metadata": {
    "collapsed": false
   },
   "outputs": [
    {
     "name": "stdout",
     "output_type": "stream",
     "text": [
      "\n",
      "Stats of batch 2:\n",
      "Samples: 10000\n",
      "Label Counts: {0: 984, 1: 1007, 2: 1010, 3: 995, 4: 1010, 5: 988, 6: 1008, 7: 1026, 8: 987, 9: 985}\n",
      "First 20 Labels: [1, 6, 6, 8, 8, 3, 4, 6, 0, 6, 0, 3, 6, 6, 5, 4, 8, 3, 2, 6]\n",
      "\n",
      "Example of Image 0:\n",
      "Image - Min Value: 5 Max Value: 225\n",
      "Image - Shape: (32, 32, 3)\n",
      "Label - Label Id: 1 Name: automobile\n"
     ]
    },
    {
     "data": {
      "image/png": "[encoded data removed]",
      "text/plain": [
       "<matplotlib.figure.Figure at 0xd01a198>"
      ]
     },
     "metadata": {
      "image/png": {
       "height": 250,
       "width": 253
      }
     },
     "output_type": "display_data"
    }
   ],
   "source": [
    "%matplotlib inline\n",
    "%config InlineBackend.figure_format = 'retina'\n",
    "\n",
    "import helper\n",
    "import numpy as np\n",
    "\n",
    "# Explore the dataset\n",
    "batch_id = 2\n",
    "sample_id = 0\n",
    "helper.display_stats(cifar10_dataset_folder_path, batch_id, sample_id)"
   ]
  },
  {
   "cell_type": "markdown",
   "metadata": {},
   "source": [
    "## Implement Preprocess Functions\n",
    "### Normalize\n",
    "In the cell below, implement the `normalize` function to take in image data, `x`, and return it as a normalized Numpy array. The values should be in the range of 0 to 1, inclusive.  The return object should be the same shape as `x`."
   ]
  },
  {
   "cell_type": "code",
   "execution_count": 12,
   "metadata": {
    "collapsed": false
   },
   "outputs": [
    {
     "name": "stdout",
     "output_type": "stream",
     "text": [
      "Tests Passed\n"
     ]
    }
   ],
   "source": [
    "def normalize(x):\n",
    "    \"\"\"\n",
    "    Normalize a list of sample image data in the range of 0 to 1\n",
    "    : x: List of image data.  The image shape is (32, 32, 3)\n",
    "    : return: Numpy array of normalize data\n",
    "    \"\"\"\n",
    "    # TODO: Implement Function\n",
    "    return x/x.max()\n",
    "\n",
    "\n",
    "\"\"\"\n",
    "DON'T MODIFY ANYTHING IN THIS CELL THAT IS BELOW THIS LINE\n",
    "\"\"\"\n",
    "tests.test_normalize(normalize)"
   ]
  },
  {
   "cell_type": "markdown",
   "metadata": {},
   "source": [
    "### One-hot encode\n",
    "Just like the previous code cell, you'll be implementing a function for preprocessing.  This time, you'll implement the `one_hot_encode` function. The input, `x`, are a list of labels.  Implement the function to return the list of labels as One-Hot encoded Numpy array.  The possible values for labels are 0 to 9. The one-hot encoding function should return the same encoding for each value between each call to `one_hot_encode`.  Make sure to save the map of encodings outside the function.\n",
    "\n",
    "**Hint:**\n",
    "\n",
    "Look into LabelBinarizer in the preprocessing module of sklearn."
   ]
  },
  {
   "cell_type": "code",
   "execution_count": 25,
   "metadata": {
    "collapsed": false
   },
   "outputs": [
    {
     "name": "stdout",
     "output_type": "stream",
     "text": [
      "Tests Passed\n"
     ]
    }
   ],
   "source": [
    "from sklearn import preprocessing\n",
    "def one_hot_encode(x):\n",
    "    \"\"\"\n",
    "    One hot encode a list of sample labels. Return a one-hot encoded vector for each label.\n",
    "    : x: List of sample Labels\n",
    "    : return: Numpy array of one-hot encoded labels\n",
    "    \"\"\"\n",
    "    # TODO: Implement Function\n",
    "    #print(x)\n",
    "    #print(type(x))\n",
    "    #print(x.shape)\n",
    "    #print(len(x))\n",
    "    \n",
    "    lb = preprocessing.LabelBinarizer()\n",
    "    lb.fit([0,1,2,3,4,5,6,7,8,9])\n",
    "    one_hot=lb.transform(x)\n",
    "    return one_hot\n",
    "    \n",
    "     \n",
    "\n",
    "\n",
    "\"\"\"\n",
    "DON'T MODIFY ANYTHING IN THIS CELL THAT IS BELOW THIS LINE\n",
    "\"\"\"\n",
    "tests.test_one_hot_encode(one_hot_encode)"
   ]
  },
  {
   "cell_type": "markdown",
   "metadata": {},
   "source": [
    "### Randomize Data\n",
    "As you saw from exploring the data above, the order of the samples are randomized.  It doesn't hurt to randomize it again, but you don't need to for this dataset."
   ]
  },
  {
   "cell_type": "markdown",
   "metadata": {},
   "source": [
    "## Preprocess all the data and save it\n",
    "Running the code cell below will preprocess all the CIFAR-10 data and save it to file. The code below also uses 10% of the training data for validation."
   ]
  },
  {
   "cell_type": "code",
   "execution_count": 26,
   "metadata": {
    "collapsed": false
   },
   "outputs": [],
   "source": [
    "\"\"\"\n",
    "DON'T MODIFY ANYTHING IN THIS CELL\n",
    "\"\"\"\n",
    "# Preprocess Training, Validation, and Testing Data\n",
    "helper.preprocess_and_save_data(cifar10_dataset_folder_path, normalize, one_hot_encode)"
   ]
  },
  {
   "cell_type": "markdown",
   "metadata": {},
   "source": [
    "# Check Point\n",
    "This is your first checkpoint.  If you ever decide to come back to this notebook or have to restart the notebook, you can start from here.  The preprocessed data has been saved to disk."
   ]
  },
  {
   "cell_type": "code",
   "execution_count": 2,
   "metadata": {
    "collapsed": true
   },
   "outputs": [],
   "source": [
    "\"\"\"\n",
    "DON'T MODIFY ANYTHING IN THIS CELL\n",
    "\"\"\"\n",
    "import pickle\n",
    "import problem_unittests as tests\n",
    "import helper\n",
    "\n",
    "# Load the Preprocessed Validation data\n",
    "valid_features, valid_labels = pickle.load(open('preprocess_validation.p', mode='rb'))"
   ]
  },
  {
   "cell_type": "markdown",
   "metadata": {},
   "source": [
    "## Build the network\n",
    "For the neural network, you'll build each layer into a function.  Most of the code you've seen has been outside of functions. To test your code more thoroughly, we require that you put each layer in a function.  This allows us to give you better feedback and test for simple mistakes using our unittests before you submit your project.\n",
    "\n",
    ">**Note:** If you're finding it hard to dedicate enough time for this course each week, we've provided a small shortcut to this part of the project. In the next couple of problems, you'll have the option to use classes from the [TensorFlow Layers](https://www.tensorflow.org/api_docs/python/tf/layers) or [TensorFlow Layers (contrib)](https://www.tensorflow.org/api_guides/python/contrib.layers) packages to build each layer, except the layers you build in the \"Convolutional and Max Pooling Layer\" section.  TF Layers is similar to Keras's and TFLearn's abstraction to layers, so it's easy to pickup.\n",
    "\n",
    ">However, if you would like to get the most out of this course, try to solve all the problems _without_ using anything from the TF Layers packages. You **can** still use classes from other packages that happen to have the same name as ones you find in TF Layers! For example, instead of using the TF Layers version of the `conv2d` class, [tf.layers.conv2d](https://www.tensorflow.org/api_docs/python/tf/layers/conv2d), you would want to use the TF Neural Network version of `conv2d`, [tf.nn.conv2d](https://www.tensorflow.org/api_docs/python/tf/nn/conv2d). \n",
    "\n",
    "Let's begin!\n",
    "\n",
    "### Input\n",
    "The neural network needs to read the image data, one-hot encoded labels, and dropout keep probability. Implement the following functions\n",
    "* Implement `neural_net_image_input`\n",
    " * Return a [TF Placeholder](https://www.tensorflow.org/api_docs/python/tf/placeholder)\n",
    " * Set the shape using `image_shape` with batch size set to `None`.\n",
    " * Name the TensorFlow placeholder \"x\" using the TensorFlow `name` parameter in the [TF Placeholder](https://www.tensorflow.org/api_docs/python/tf/placeholder).\n",
    "* Implement `neural_net_label_input`\n",
    " * Return a [TF Placeholder](https://www.tensorflow.org/api_docs/python/tf/placeholder)\n",
    " * Set the shape using `n_classes` with batch size set to `None`.\n",
    " * Name the TensorFlow placeholder \"y\" using the TensorFlow `name` parameter in the [TF Placeholder](https://www.tensorflow.org/api_docs/python/tf/placeholder).\n",
    "* Implement `neural_net_keep_prob_input`\n",
    " * Return a [TF Placeholder](https://www.tensorflow.org/api_docs/python/tf/placeholder) for dropout keep probability.\n",
    " * Name the TensorFlow placeholder \"keep_prob\" using the TensorFlow `name` parameter in the [TF Placeholder](https://www.tensorflow.org/api_docs/python/tf/placeholder).\n",
    "\n",
    "These names will be used at the end of the project to load your saved model.\n",
    "\n",
    "Note: `None` for shapes in TensorFlow allow for a dynamic size."
   ]
  },
  {
   "cell_type": "code",
   "execution_count": 5,
   "metadata": {
    "collapsed": false
   },
   "outputs": [
    {
     "name": "stdout",
     "output_type": "stream",
     "text": [
      "Image Input Tests Passed.\n",
      "Label Input Tests Passed.\n",
      "Keep Prob Tests Passed.\n"
     ]
    }
   ],
   "source": [
    "import tensorflow as tf\n",
    "\n",
    "def neural_net_image_input(image_shape):\n",
    "    \"\"\"\n",
    "    Return a Tensor for a batch of image input\n",
    "    : image_shape: Shape of the images\n",
    "    : return: Tensor for image input.\n",
    "    \"\"\"\n",
    "    # TODO: Implement Function\n",
    "    return tf.placeholder(tf.float32,[None,image_shape[0],image_shape[1],image_shape[2]],name=\"x\")\n",
    "\n",
    "\n",
    "def neural_net_label_input(n_classes):\n",
    "    \"\"\"\n",
    "    Return a Tensor for a batch of label input\n",
    "    : n_classes: Number of classes\n",
    "    : return: Tensor for label input.\n",
    "    \"\"\"\n",
    "    # TODO: Implement Function\"\"\n",
    "    return tf.placeholder(tf.float32,[None,n_classes],name=\"y\")\n",
    "\n",
    "\n",
    "def neural_net_keep_prob_input():\n",
    "    \"\"\"\n",
    "    Return a Tensor for keep probability\n",
    "    : return: Tensor for keep probability.\n",
    "    \"\"\"\n",
    "    # TODO: Implement Function\n",
    "    return tf.placeholder(tf.float32, name='keep_prob')\n",
    "\n",
    "\n",
    "\n",
    "\n",
    "\"\"\"\n",
    "DON'T MODIFY ANYTHING IN THIS CELL THAT IS BELOW THIS LINE\n",
    "\"\"\"\n",
    "tf.reset_default_graph()\n",
    "tests.test_nn_image_inputs(neural_net_image_input)\n",
    "tests.test_nn_label_inputs(neural_net_label_input)\n",
    "tests.test_nn_keep_prob_inputs(neural_net_keep_prob_input)"
   ]
  },
  {
   "cell_type": "markdown",
   "metadata": {},
   "source": [
    "### Convolution and Max Pooling Layer\n",
    "Convolution layers have a lot of success with images. For this code cell, you should implement the function `conv2d_maxpool` to apply convolution then max pooling:\n",
    "* Create the weight and bias using `conv_ksize`, `conv_num_outputs` and the shape of `x_tensor`.\n",
    "* Apply a convolution to `x_tensor` using weight and `conv_strides`.\n",
    " * We recommend you use same padding, but you're welcome to use any padding.\n",
    "* Add bias\n",
    "* Add a nonlinear activation to the convolution.\n",
    "* Apply Max Pooling using `pool_ksize` and `pool_strides`.\n",
    " * We recommend you use same padding, but you're welcome to use any padding.\n",
    "\n",
    "**Note:** You **can't** use [TensorFlow Layers](https://www.tensorflow.org/api_docs/python/tf/layers) or [TensorFlow Layers (contrib)](https://www.tensorflow.org/api_guides/python/contrib.layers) for **this** layer, but you can still use TensorFlow's [Neural Network](https://www.tensorflow.org/api_docs/python/tf/nn) package. You may still use the shortcut option for all the **other** layers.\n",
    "\n",
    "** Hint: **\n",
    "\n",
    "When unpacking values as an argument in Python, look into the [unpacking](https://docs.python.org/3/tutorial/controlflow.html#unpacking-argument-lists) operator. "
   ]
  },
  {
   "cell_type": "code",
   "execution_count": 7,
   "metadata": {
    "collapsed": false
   },
   "outputs": [
    {
     "name": "stdout",
     "output_type": "stream",
     "text": [
      "Tests Passed\n"
     ]
    }
   ],
   "source": [
    "def conv2d_maxpool(x_tensor, conv_num_outputs, conv_ksize, conv_strides, pool_ksize, pool_strides):\n",
    "    \"\"\"\n",
    "    Apply convolution then max pooling to x_tensor\n",
    "    :param x_tensor: TensorFlow Tensor\n",
    "    :param conv_num_outputs: Number of outputs for the convolutional layer\n",
    "    :param conv_ksize: kernal size 2-D Tuple for the convolutional layer\n",
    "    :param conv_strides: Stride 2-D Tuple for convolution\n",
    "    :param pool_ksize: kernal size 2-D Tuple for pool\n",
    "    :param pool_strides: Stride 2-D Tuple for pool\n",
    "    : return: A tensor that represents convolution and max pooling of x_tensor\n",
    "    \"\"\"\n",
    "    # TODO: Implement Function\n",
    "    weight=tf.Variable(tf.random_normal([conv_ksize[0],\n",
    "                                           conv_ksize[1],\n",
    "                                           x_tensor.get_shape().as_list()[-1], \n",
    "                                           conv_num_outputs],\n",
    "                                         stddev=0.1))\n",
    "    bias = tf.Variable(tf.zeros(conv_num_outputs, dtype=tf.float32))\n",
    "    conv_layer = tf.nn.conv2d(x_tensor, weight, strides=[1, conv_strides[0], conv_strides[1], 1], padding='SAME')\n",
    "    conv_layer = tf.nn.bias_add(conv_layer, bias)\n",
    "    conv_layer = tf.nn.relu(conv_layer)\n",
    "    conv_layer = tf.nn.max_pool(conv_layer, \n",
    "                                ksize=[1, pool_ksize[0], pool_ksize[1], 1], \n",
    "                                strides=[1, pool_strides[0], pool_strides[1], 1],\n",
    "                                padding='SAME')\n",
    "    return conv_layer \n",
    "\n",
    "\n",
    "\"\"\"\n",
    "DON'T MODIFY ANYTHING IN THIS CELL THAT IS BELOW THIS LINE\n",
    "\"\"\"\n",
    "tests.test_con_pool(conv2d_maxpool)"
   ]
  },
  {
   "cell_type": "markdown",
   "metadata": {},
   "source": [
    "### Flatten Layer\n",
    "Implement the `flatten` function to change the dimension of `x_tensor` from a 4-D tensor to a 2-D tensor.  The output should be the shape (*Batch Size*, *Flattened Image Size*). Shortcut option: you can use classes from the [TensorFlow Layers](https://www.tensorflow.org/api_docs/python/tf/layers) or [TensorFlow Layers (contrib)](https://www.tensorflow.org/api_guides/python/contrib.layers) packages for this layer. For more of a challenge, only use other TensorFlow packages."
   ]
  },
  {
   "cell_type": "code",
   "execution_count": 9,
   "metadata": {
    "collapsed": false
   },
   "outputs": [
    {
     "name": "stdout",
     "output_type": "stream",
     "text": [
      "Tests Passed\n"
     ]
    }
   ],
   "source": [
    "def flatten(x_tensor):\n",
    "    \"\"\"\n",
    "    Flatten x_tensor to (Batch Size, Flattened Image Size)\n",
    "    : x_tensor: A tensor of size (Batch Size, ...), where ... are the image dimensions.\n",
    "    : return: A tensor of size (Batch Size, Flattened Image Size).\n",
    "    \"\"\"\n",
    "    # TODO: Implement Function\n",
    "    flattened_size =x_tensor.shape[1] * x_tensor.shape[2] * x_tensor.shape[3]\n",
    "    return tf.reshape(x_tensor, [-1, flattened_size.value])\n",
    "\n",
    "\n",
    "\n",
    "\"\"\"\n",
    "DON'T MODIFY ANYTHING IN THIS CELL THAT IS BELOW THIS LINE\n",
    "\"\"\"\n",
    "tests.test_flatten(flatten)"
   ]
  },
  {
   "cell_type": "markdown",
   "metadata": {},
   "source": [
    "\n",
    "\n",
    "\n",
    "\n",
    "\n",
    "\n",
    "\n",
    "\n",
    "\n",
    "\n",
    "\n",
    "### Fully-Connected Layer\n",
    "Implement the `fully_conn` function to apply a fully connected layer to `x_tensor` with the shape (*Batch Size*, *num_outputs*). Shortcut option: you can use classes from the [TensorFlow Layers](https://www.tensorflow.org/api_docs/python/tf/layers) or [TensorFlow Layers (contrib)](https://www.tensorflow.org/api_guides/python/contrib.layers) packages for this layer. For more of a challenge, only use other TensorFlow packages."
   ]
  },
  {
   "cell_type": "code",
   "execution_count": 10,
   "metadata": {
    "collapsed": false
   },
   "outputs": [
    {
     "name": "stdout",
     "output_type": "stream",
     "text": [
      "Tests Passed\n"
     ]
    }
   ],
   "source": [
    "def fully_conn(x_tensor, num_outputs):\n",
    "    \"\"\"\n",
    "    Apply a fully connected layer to x_tensor using weight and bias\n",
    "    : x_tensor: A 2-D tensor where the first dimension is batch size.\n",
    "    : num_outputs: The number of output that the new tensor should be.\n",
    "    : return: A 2-D tensor where the second dimension is num_outputs.\n",
    "    \"\"\"\n",
    "    # TODO: Implement Function\n",
    "    num_features = x_tensor.shape[1].value\n",
    "    weights = tf.Variable(tf.random_normal([num_features, num_outputs], stddev=0.1))\n",
    "    biases = tf.Variable(tf.zeros([num_outputs]))\n",
    "    fc = tf.add(tf.matmul(x_tensor, weights), biases)\n",
    "    fc = tf.nn.relu(fc)\n",
    "    return fc\n",
    "\n",
    "\n",
    "\"\"\"\n",
    "DON'T MODIFY ANYTHING IN THIS CELL THAT IS BELOW THIS LINE\n",
    "\"\"\"\n",
    "tests.test_fully_conn(fully_conn)"
   ]
  },
  {
   "cell_type": "markdown",
   "metadata": {},
   "source": [
    "### Output Layer\n",
    "Implement the `output` function to apply a fully connected layer to `x_tensor` with the shape (*Batch Size*, *num_outputs*). Shortcut option: you can use classes from the [TensorFlow Layers](https://www.tensorflow.org/api_docs/python/tf/layers) or [TensorFlow Layers (contrib)](https://www.tensorflow.org/api_guides/python/contrib.layers) packages for this layer. For more of a challenge, only use other TensorFlow packages.\n",
    "\n",
    "**Note:** Activation, softmax, or cross entropy should **not** be applied to this."
   ]
  },
  {
   "cell_type": "code",
   "execution_count": 11,
   "metadata": {
    "collapsed": false
   },
   "outputs": [
    {
     "name": "stdout",
     "output_type": "stream",
     "text": [
      "Tests Passed\n"
     ]
    }
   ],
   "source": [
    "def output(x_tensor, num_outputs):\n",
    "    \"\"\"\n",
    "    Apply a output layer to x_tensor using weight and bias\n",
    "    : x_tensor: A 2-D tensor where the first dimension is batch size.\n",
    "    : num_outputs: The number of output that the new tensor should be.\n",
    "    : return: A 2-D tensor where the second dimension is num_outputs.\n",
    "    \"\"\"\n",
    "    # TODO: Implement Function\n",
    "    num_features = x_tensor.shape[1].value\n",
    "    weights = tf.Variable(tf.random_normal([num_features, num_outputs], stddev=0.1))\n",
    "    biases = tf.Variable(tf.zeros([num_outputs]))\n",
    "    output_layer = tf.add(tf.matmul(x_tensor, weights), biases)\n",
    "    # output_layer = tf.nn.softmax(output_layer)\n",
    "    return output_layer\n",
    "\n",
    "\n",
    "\"\"\"\n",
    "DON'T MODIFY ANYTHING IN THIS CELL THAT IS BELOW THIS LINE\n",
    "\"\"\"\n",
    "tests.test_output(output)"
   ]
  },
  {
   "cell_type": "markdown",
   "metadata": {},
   "source": [
    "### Create Convolutional Model\n",
    "Implement the function `conv_net` to create a convolutional neural network model. The function takes in a batch of images, `x`, and outputs logits.  Use the layers you created above to create this model:\n",
    "\n",
    "* Apply 1, 2, or 3 Convolution and Max Pool layers\n",
    "* Apply a Flatten Layer\n",
    "* Apply 1, 2, or 3 Fully Connected Layers\n",
    "* Apply an Output Layer\n",
    "* Return the output\n",
    "* Apply [TensorFlow's Dropout](https://www.tensorflow.org/api_docs/python/tf/nn/dropout) to one or more layers in the model using `keep_prob`. "
   ]
  },
  {
   "cell_type": "code",
   "execution_count": 12,
   "metadata": {
    "collapsed": false
   },
   "outputs": [
    {
     "name": "stdout",
     "output_type": "stream",
     "text": [
      "Neural Network Built!\n"
     ]
    }
   ],
   "source": [
    "def conv_net(x, keep_prob):\n",
    "    \"\"\"\n",
    "    Create a convolutional neural network model\n",
    "    : x: Placeholder tensor that holds image data.\n",
    "    : keep_prob: Placeholder tensor that hold dropout keep probability.\n",
    "    : return: Tensor that represents logits\n",
    "    \"\"\"\n",
    "    # TODO: Apply 1, 2, or 3 Convolution and Max Pool layers\n",
    "    #    Play around with different number of outputs, kernel size and stride\n",
    "    # Function Definition from Above:\n",
    "    #    conv2d_maxpool(x_tensor, conv_num_outputs, conv_ksize, conv_strides, pool_ksize, pool_strides)\n",
    "    x = conv2d_maxpool(x, 8, (4, 4), (1, 1), (2, 2), (2, 2))\n",
    "    x = conv2d_maxpool(x, 16, (4, 4), (1, 1), (2, 2), (2, 2))\n",
    "    x = conv2d_maxpool(x, 32, (4, 4), (1, 1), (2, 2), (2, 2))\n",
    "    \n",
    "\n",
    "    # TODO: Apply a Flatten Layer\n",
    "    # Function Definition from Above:\n",
    "    #   flatten(x_tensor)\n",
    "    x = flatten(x)\n",
    " \n",
    "\n",
    "    # TODO: Apply 1, 2, or 3 Fully Connected Layers\n",
    "    #    Play around with different number of outputs\n",
    "    # Function Definition from Above:\n",
    "    #   fully_conn(x_tensor, num_outputs)\n",
    "    x = fully_conn(x, 1024)\n",
    "    x = tf.nn.dropout(x, keep_prob=keep_prob)\n",
    "    x = fully_conn(x, 1024)\n",
    "    x = tf.nn.dropout(x, keep_prob=keep_prob)\n",
    "    \n",
    "    # TODO: Apply an Output Layer\n",
    "    #    Set this to the number of classes\n",
    "    # Function Definition from Above:\n",
    "    #   output(x_tensor, num_outputs)\n",
    "    x=output(x,10)\n",
    "    \n",
    "    # TODO: return output\n",
    "    return x\n",
    "\n",
    "\n",
    "\"\"\"\n",
    "DON'T MODIFY ANYTHING IN THIS CELL THAT IS BELOW THIS LINE\n",
    "\"\"\"\n",
    "\n",
    "##############################\n",
    "## Build the Neural Network ##\n",
    "##############################\n",
    "\n",
    "# Remove previous weights, bias, inputs, etc..\n",
    "tf.reset_default_graph()\n",
    "\n",
    "# Inputs\n",
    "x = neural_net_image_input((32, 32, 3))\n",
    "y = neural_net_label_input(10)\n",
    "keep_prob = neural_net_keep_prob_input()\n",
    "\n",
    "# Model\n",
    "logits = conv_net(x, keep_prob)\n",
    "\n",
    "# Name logits Tensor, so that is can be loaded from disk after training\n",
    "logits = tf.identity(logits, name='logits')\n",
    "\n",
    "# Loss and Optimizer\n",
    "cost = tf.reduce_mean(tf.nn.softmax_cross_entropy_with_logits(logits=logits, labels=y))\n",
    "optimizer = tf.train.AdamOptimizer().minimize(cost)\n",
    "\n",
    "# Accuracy\n",
    "correct_pred = tf.equal(tf.argmax(logits, 1), tf.argmax(y, 1))\n",
    "accuracy = tf.reduce_mean(tf.cast(correct_pred, tf.float32), name='accuracy')\n",
    "\n",
    "tests.test_conv_net(conv_net)"
   ]
  },
  {
   "cell_type": "markdown",
   "metadata": {},
   "source": [
    "## Train the Neural Network\n",
    "### Single Optimization\n",
    "Implement the function `train_neural_network` to do a single optimization.  The optimization should use `optimizer` to optimize in `session` with a `feed_dict` of the following:\n",
    "* `x` for image input\n",
    "* `y` for labels\n",
    "* `keep_prob` for keep probability for dropout\n",
    "\n",
    "This function will be called for each batch, so `tf.global_variables_initializer()` has already been called.\n",
    "\n",
    "Note: Nothing needs to be returned. This function is only optimizing the neural network."
   ]
  },
  {
   "cell_type": "code",
   "execution_count": 13,
   "metadata": {
    "collapsed": false
   },
   "outputs": [
    {
     "name": "stdout",
     "output_type": "stream",
     "text": [
      "Tests Passed\n"
     ]
    }
   ],
   "source": [
    "def train_neural_network(session, optimizer, keep_probability, feature_batch, label_batch):\n",
    "    \"\"\"\n",
    "    Optimize the session on a batch of images and labels\n",
    "    : session: Current TensorFlow session\n",
    "    : optimizer: TensorFlow optimizer function\n",
    "    : keep_probability: keep probability\n",
    "    : feature_batch: Batch of Numpy image data\n",
    "    : label_batch: Batch of Numpy label data\n",
    "    \"\"\"\n",
    "    # TODO: Implement Function\n",
    "    session.run(optimizer, feed_dict={x:feature_batch, y:label_batch, keep_prob:keep_probability})\n",
    "\n",
    "\n",
    "\n",
    "\n",
    "\"\"\"\n",
    "DON'T MODIFY ANYTHING IN THIS CELL THAT IS BELOW THIS LINE\n",
    "\"\"\"\n",
    "tests.test_train_nn(train_neural_network)"
   ]
  },
  {
   "cell_type": "markdown",
   "metadata": {},
   "source": [
    "### Show Stats\n",
    "Implement the function `print_stats` to print loss and validation accuracy.  Use the global variables `valid_features` and `valid_labels` to calculate validation accuracy.  Use a keep probability of `1.0` to calculate the loss and validation accuracy."
   ]
  },
  {
   "cell_type": "code",
   "execution_count": 14,
   "metadata": {
    "collapsed": false
   },
   "outputs": [],
   "source": [
    "def print_stats(session, feature_batch, label_batch, cost, accuracy):\n",
    "    \"\"\"\n",
    "    Print information about loss and validation accuracy\n",
    "    : session: Current TensorFlow session\n",
    "    : feature_batch: Batch of Numpy image data\n",
    "    : label_batch: Batch of Numpy label data\n",
    "    : cost: TensorFlow cost function\n",
    "    : accuracy: TensorFlow accuracy function\n",
    "    \"\"\"\n",
    "    # TODO: Implement Function\n",
    "    loss = session.run(cost, feed_dict={x:feature_batch, \n",
    "                                        y:label_batch,\n",
    "                                        keep_prob:1.0}) \n",
    "    acc = session.run(accuracy, \n",
    "                feed_dict={x:valid_features, \n",
    "                           y:valid_labels, \n",
    "                           keep_prob:1.0})\n",
    "    print('Loss={0} ValidationAccuracy={1}'.format(loss, acc))"
   ]
  },
  {
   "cell_type": "markdown",
   "metadata": {},
   "source": [
    "### Hyperparameters\n",
    "Tune the following parameters:\n",
    "* Set `epochs` to the number of iterations until the network stops learning or start overfitting\n",
    "* Set `batch_size` to the highest number that your machine has memory for.  Most people set them to common sizes of memory:\n",
    " * 64\n",
    " * 128\n",
    " * 256\n",
    " * ...\n",
    "* Set `keep_probability` to the probability of keeping a node using dropout"
   ]
  },
  {
   "cell_type": "code",
   "execution_count": 15,
   "metadata": {
    "collapsed": true
   },
   "outputs": [],
   "source": [
    "# TODO: Tune Parameters\n",
    "epochs = 25\n",
    "batch_size = 1028\n",
    "keep_probability = 0.9"
   ]
  },
  {
   "cell_type": "markdown",
   "metadata": {},
   "source": [
    "### Train on a Single CIFAR-10 Batch\n",
    "Instead of training the neural network on all the CIFAR-10 batches of data, let's use a single batch. This should save time while you iterate on the model to get a better accuracy.  Once the final validation accuracy is 50% or greater, run the model on all the data in the next section."
   ]
  },
  {
   "cell_type": "code",
   "execution_count": 16,
   "metadata": {
    "collapsed": false
   },
   "outputs": [
    {
     "name": "stdout",
     "output_type": "stream",
     "text": [
      "Checking the Training on a Single Batch...\n",
      "Epoch  1, CIFAR-10 Batch 1:  Loss=2.29219388961792 ValidationAccuracy=0.11680000275373459\n",
      "Epoch  2, CIFAR-10 Batch 1:  Loss=2.1475956439971924 ValidationAccuracy=0.25440001487731934\n",
      "Epoch  3, CIFAR-10 Batch 1:  Loss=1.985702395439148 ValidationAccuracy=0.3140000104904175\n",
      "Epoch  4, CIFAR-10 Batch 1:  Loss=1.8545418977737427 ValidationAccuracy=0.34220001101493835\n",
      "Epoch  5, CIFAR-10 Batch 1:  Loss=1.705748200416565 ValidationAccuracy=0.3824000060558319\n",
      "Epoch  6, CIFAR-10 Batch 1:  Loss=1.6318767070770264 ValidationAccuracy=0.4036000072956085\n",
      "Epoch  7, CIFAR-10 Batch 1:  Loss=1.5235639810562134 ValidationAccuracy=0.4296000003814697\n",
      "Epoch  8, CIFAR-10 Batch 1:  Loss=1.438860535621643 ValidationAccuracy=0.4456000030040741\n",
      "Epoch  9, CIFAR-10 Batch 1:  Loss=1.3618031740188599 ValidationAccuracy=0.46560001373291016\n",
      "Epoch 10, CIFAR-10 Batch 1:  Loss=1.3075721263885498 ValidationAccuracy=0.4740000069141388\n",
      "Epoch 11, CIFAR-10 Batch 1:  Loss=1.2633395195007324 ValidationAccuracy=0.4846000075340271\n",
      "Epoch 12, CIFAR-10 Batch 1:  Loss=1.2335801124572754 ValidationAccuracy=0.483599990606308\n",
      "Epoch 13, CIFAR-10 Batch 1:  Loss=1.1544784307479858 ValidationAccuracy=0.5022000074386597\n",
      "Epoch 14, CIFAR-10 Batch 1:  Loss=1.1044902801513672 ValidationAccuracy=0.5023999810218811\n",
      "Epoch 15, CIFAR-10 Batch 1:  Loss=1.0619980096817017 ValidationAccuracy=0.5055999755859375\n",
      "Epoch 16, CIFAR-10 Batch 1:  Loss=1.0241115093231201 ValidationAccuracy=0.5034000277519226\n",
      "Epoch 17, CIFAR-10 Batch 1:  Loss=0.9726210236549377 ValidationAccuracy=0.5012000203132629\n",
      "Epoch 18, CIFAR-10 Batch 1:  Loss=0.9080216884613037 ValidationAccuracy=0.5103999972343445\n",
      "Epoch 19, CIFAR-10 Batch 1:  Loss=0.849530816078186 ValidationAccuracy=0.5180000066757202\n",
      "Epoch 20, CIFAR-10 Batch 1:  Loss=0.7832390666007996 ValidationAccuracy=0.526199996471405\n",
      "Epoch 21, CIFAR-10 Batch 1:  Loss=0.7353265285491943 ValidationAccuracy=0.5242000222206116\n",
      "Epoch 22, CIFAR-10 Batch 1:  Loss=0.6913102865219116 ValidationAccuracy=0.5235999822616577\n",
      "Epoch 23, CIFAR-10 Batch 1:  Loss=0.6263672113418579 ValidationAccuracy=0.5342000126838684\n",
      "Epoch 24, CIFAR-10 Batch 1:  Loss=0.5749866962432861 ValidationAccuracy=0.5303999781608582\n",
      "Epoch 25, CIFAR-10 Batch 1:  Loss=0.5363450050354004 ValidationAccuracy=0.5293999910354614\n"
     ]
    }
   ],
   "source": [
    "\"\"\"\n",
    "DON'T MODIFY ANYTHING IN THIS CELL\n",
    "\"\"\"\n",
    "print('Checking the Training on a Single Batch...')\n",
    "with tf.Session() as sess:\n",
    "    # Initializing the variables\n",
    "    sess.run(tf.global_variables_initializer())\n",
    "    \n",
    "    # Training cycle\n",
    "    for epoch in range(epochs):\n",
    "        batch_i = 1\n",
    "        for batch_features, batch_labels in helper.load_preprocess_training_batch(batch_i, batch_size):\n",
    "            train_neural_network(sess, optimizer, keep_probability, batch_features, batch_labels)\n",
    "        print('Epoch {:>2}, CIFAR-10 Batch {}:  '.format(epoch + 1, batch_i), end='')\n",
    "        print_stats(sess, batch_features, batch_labels, cost, accuracy)"
   ]
  },
  {
   "cell_type": "markdown",
   "metadata": {},
   "source": [
    "### Fully Train the Model\n",
    "Now that you got a good accuracy with a single CIFAR-10 batch, try it with all five batches."
   ]
  },
  {
   "cell_type": "code",
   "execution_count": 17,
   "metadata": {
    "collapsed": false
   },
   "outputs": [
    {
     "name": "stdout",
     "output_type": "stream",
     "text": [
      "Training...\n",
      "Epoch  1, CIFAR-10 Batch 1:  Loss=2.101191282272339 ValidationAccuracy=0.21559999883174896\n",
      "Epoch  1, CIFAR-10 Batch 2:  Loss=1.9849625825881958 ValidationAccuracy=0.303600013256073\n",
      "Epoch  1, CIFAR-10 Batch 3:  Loss=1.8250048160552979 ValidationAccuracy=0.334199994802475\n",
      "Epoch  1, CIFAR-10 Batch 4:  Loss=1.7706267833709717 ValidationAccuracy=0.35440000891685486\n",
      "Epoch  1, CIFAR-10 Batch 5:  Loss=1.6635466814041138 ValidationAccuracy=0.3901999890804291\n",
      "Epoch  2, CIFAR-10 Batch 1:  Loss=1.578571081161499 ValidationAccuracy=0.42080000042915344\n",
      "Epoch  2, CIFAR-10 Batch 2:  Loss=1.5825037956237793 ValidationAccuracy=0.4341999888420105\n",
      "Epoch  2, CIFAR-10 Batch 3:  Loss=1.445758581161499 ValidationAccuracy=0.446399986743927\n",
      "Epoch  2, CIFAR-10 Batch 4:  Loss=1.4149500131607056 ValidationAccuracy=0.4702000021934509\n",
      "Epoch  2, CIFAR-10 Batch 5:  Loss=1.435991883277893 ValidationAccuracy=0.47920000553131104\n",
      "Epoch  3, CIFAR-10 Batch 1:  Loss=1.3710588216781616 ValidationAccuracy=0.48339998722076416\n",
      "Epoch  3, CIFAR-10 Batch 2:  Loss=1.3975181579589844 ValidationAccuracy=0.49399998784065247\n",
      "Epoch  3, CIFAR-10 Batch 3:  Loss=1.29360830783844 ValidationAccuracy=0.4925999939441681\n",
      "Epoch  3, CIFAR-10 Batch 4:  Loss=1.2887033224105835 ValidationAccuracy=0.5012000203132629\n",
      "Epoch  3, CIFAR-10 Batch 5:  Loss=1.2954548597335815 ValidationAccuracy=0.4991999864578247\n",
      "Epoch  4, CIFAR-10 Batch 1:  Loss=1.2613939046859741 ValidationAccuracy=0.5088000297546387\n",
      "Epoch  4, CIFAR-10 Batch 2:  Loss=1.286365270614624 ValidationAccuracy=0.5181999802589417\n",
      "Epoch  4, CIFAR-10 Batch 3:  Loss=1.1985844373703003 ValidationAccuracy=0.5199999809265137\n",
      "Epoch  4, CIFAR-10 Batch 4:  Loss=1.1802915334701538 ValidationAccuracy=0.5180000066757202\n",
      "Epoch  4, CIFAR-10 Batch 5:  Loss=1.195917010307312 ValidationAccuracy=0.5192000269889832\n",
      "Epoch  5, CIFAR-10 Batch 1:  Loss=1.170237421989441 ValidationAccuracy=0.534600019454956\n",
      "Epoch  5, CIFAR-10 Batch 2:  Loss=1.1877758502960205 ValidationAccuracy=0.5397999882698059\n",
      "Epoch  5, CIFAR-10 Batch 3:  Loss=1.1258851289749146 ValidationAccuracy=0.5388000011444092\n",
      "Epoch  5, CIFAR-10 Batch 4:  Loss=1.1178195476531982 ValidationAccuracy=0.5333999991416931\n",
      "Epoch  5, CIFAR-10 Batch 5:  Loss=1.1060196161270142 ValidationAccuracy=0.5411999821662903\n",
      "Epoch  6, CIFAR-10 Batch 1:  Loss=1.0914602279663086 ValidationAccuracy=0.5533999800682068\n",
      "Epoch  6, CIFAR-10 Batch 2:  Loss=1.1093759536743164 ValidationAccuracy=0.5486000180244446\n",
      "Epoch  6, CIFAR-10 Batch 3:  Loss=1.0721734762191772 ValidationAccuracy=0.5473999977111816\n",
      "Epoch  6, CIFAR-10 Batch 4:  Loss=1.0486830472946167 ValidationAccuracy=0.5482000112533569\n",
      "Epoch  6, CIFAR-10 Batch 5:  Loss=1.0419731140136719 ValidationAccuracy=0.5432000160217285\n",
      "Epoch  7, CIFAR-10 Batch 1:  Loss=1.0313665866851807 ValidationAccuracy=0.5586000084877014\n",
      "Epoch  7, CIFAR-10 Batch 2:  Loss=1.0386828184127808 ValidationAccuracy=0.5551999807357788\n",
      "Epoch  7, CIFAR-10 Batch 3:  Loss=1.0380024909973145 ValidationAccuracy=0.5594000220298767\n",
      "Epoch  7, CIFAR-10 Batch 4:  Loss=0.9958943128585815 ValidationAccuracy=0.5450000166893005\n",
      "Epoch  7, CIFAR-10 Batch 5:  Loss=0.9656763672828674 ValidationAccuracy=0.5609999895095825\n",
      "Epoch  8, CIFAR-10 Batch 1:  Loss=0.9477453827857971 ValidationAccuracy=0.5799999833106995\n",
      "Epoch  8, CIFAR-10 Batch 2:  Loss=0.9335261583328247 ValidationAccuracy=0.579200029373169\n",
      "Epoch  8, CIFAR-10 Batch 3:  Loss=0.9427260756492615 ValidationAccuracy=0.574400007724762\n",
      "Epoch  8, CIFAR-10 Batch 4:  Loss=0.9335246682167053 ValidationAccuracy=0.5565999746322632\n",
      "Epoch  8, CIFAR-10 Batch 5:  Loss=0.8856154084205627 ValidationAccuracy=0.5748000144958496\n",
      "Epoch  9, CIFAR-10 Batch 1:  Loss=0.8860980272293091 ValidationAccuracy=0.5794000029563904\n",
      "Epoch  9, CIFAR-10 Batch 2:  Loss=0.8562983870506287 ValidationAccuracy=0.5920000076293945\n",
      "Epoch  9, CIFAR-10 Batch 3:  Loss=0.8813910484313965 ValidationAccuracy=0.5759999752044678\n",
      "Epoch  9, CIFAR-10 Batch 4:  Loss=0.8548025488853455 ValidationAccuracy=0.5758000016212463\n",
      "Epoch  9, CIFAR-10 Batch 5:  Loss=0.8098853826522827 ValidationAccuracy=0.5825999975204468\n",
      "Epoch 10, CIFAR-10 Batch 1:  Loss=0.8041559457778931 ValidationAccuracy=0.5881999731063843\n",
      "Epoch 10, CIFAR-10 Batch 2:  Loss=0.7824913263320923 ValidationAccuracy=0.5989999771118164\n",
      "Epoch 10, CIFAR-10 Batch 3:  Loss=0.7873156070709229 ValidationAccuracy=0.5878000259399414\n",
      "Epoch 10, CIFAR-10 Batch 4:  Loss=0.7707974910736084 ValidationAccuracy=0.5831999778747559\n",
      "Epoch 10, CIFAR-10 Batch 5:  Loss=0.7601519823074341 ValidationAccuracy=0.5784000158309937\n",
      "Epoch 11, CIFAR-10 Batch 1:  Loss=0.7299147844314575 ValidationAccuracy=0.5985999703407288\n",
      "Epoch 11, CIFAR-10 Batch 2:  Loss=0.7368496656417847 ValidationAccuracy=0.5979999899864197\n",
      "Epoch 11, CIFAR-10 Batch 3:  Loss=0.7115033268928528 ValidationAccuracy=0.5902000069618225\n",
      "Epoch 11, CIFAR-10 Batch 4:  Loss=0.7026404738426208 ValidationAccuracy=0.5929999947547913\n",
      "Epoch 11, CIFAR-10 Batch 5:  Loss=0.6968035101890564 ValidationAccuracy=0.5861999988555908\n",
      "Epoch 12, CIFAR-10 Batch 1:  Loss=0.6715495586395264 ValidationAccuracy=0.6003999710083008\n",
      "Epoch 12, CIFAR-10 Batch 2:  Loss=0.6818362474441528 ValidationAccuracy=0.5983999967575073\n",
      "Epoch 12, CIFAR-10 Batch 3:  Loss=0.6306219696998596 ValidationAccuracy=0.6057999730110168\n",
      "Epoch 12, CIFAR-10 Batch 4:  Loss=0.6495003700256348 ValidationAccuracy=0.5982000231742859\n",
      "Epoch 12, CIFAR-10 Batch 5:  Loss=0.6358827948570251 ValidationAccuracy=0.5932000279426575\n",
      "Epoch 13, CIFAR-10 Batch 1:  Loss=0.6273056268692017 ValidationAccuracy=0.6028000116348267\n",
      "Epoch 13, CIFAR-10 Batch 2:  Loss=0.6314297318458557 ValidationAccuracy=0.6007999777793884\n",
      "Epoch 13, CIFAR-10 Batch 3:  Loss=0.6041203141212463 ValidationAccuracy=0.6093999743461609\n",
      "Epoch 13, CIFAR-10 Batch 4:  Loss=0.6150332093238831 ValidationAccuracy=0.592199981212616\n",
      "Epoch 13, CIFAR-10 Batch 5:  Loss=0.5870568752288818 ValidationAccuracy=0.5974000096321106\n",
      "Epoch 14, CIFAR-10 Batch 1:  Loss=0.5644737482070923 ValidationAccuracy=0.6079999804496765\n",
      "Epoch 14, CIFAR-10 Batch 2:  Loss=0.6275191307067871 ValidationAccuracy=0.5916000008583069\n",
      "Epoch 14, CIFAR-10 Batch 3:  Loss=0.5708207488059998 ValidationAccuracy=0.6033999919891357\n",
      "Epoch 14, CIFAR-10 Batch 4:  Loss=0.5415881276130676 ValidationAccuracy=0.6068000197410583\n",
      "Epoch 14, CIFAR-10 Batch 5:  Loss=0.5319295525550842 ValidationAccuracy=0.6011999845504761\n",
      "Epoch 15, CIFAR-10 Batch 1:  Loss=0.5073229074478149 ValidationAccuracy=0.6169999837875366\n",
      "Epoch 15, CIFAR-10 Batch 2:  Loss=0.5052300691604614 ValidationAccuracy=0.6092000007629395\n",
      "Epoch 15, CIFAR-10 Batch 3:  Loss=0.5358497500419617 ValidationAccuracy=0.5997999906539917\n",
      "Epoch 15, CIFAR-10 Batch 4:  Loss=0.5137708783149719 ValidationAccuracy=0.6079999804496765\n",
      "Epoch 15, CIFAR-10 Batch 5:  Loss=0.5046819448471069 ValidationAccuracy=0.6061999797821045\n",
      "Epoch 16, CIFAR-10 Batch 1:  Loss=0.4843400716781616 ValidationAccuracy=0.6141999959945679\n",
      "Epoch 16, CIFAR-10 Batch 2:  Loss=0.5021822452545166 ValidationAccuracy=0.6123999953269958\n",
      "Epoch 16, CIFAR-10 Batch 3:  Loss=0.4792643189430237 ValidationAccuracy=0.5997999906539917\n",
      "Epoch 16, CIFAR-10 Batch 4:  Loss=0.5129833221435547 ValidationAccuracy=0.5884000062942505\n",
      "Epoch 16, CIFAR-10 Batch 5:  Loss=0.5048469305038452 ValidationAccuracy=0.6079999804496765\n",
      "Epoch 17, CIFAR-10 Batch 1:  Loss=0.4651506543159485 ValidationAccuracy=0.6064000129699707\n",
      "Epoch 17, CIFAR-10 Batch 2:  Loss=0.45783576369285583 ValidationAccuracy=0.6100000143051147\n",
      "Epoch 17, CIFAR-10 Batch 3:  Loss=0.4756940007209778 ValidationAccuracy=0.597599983215332\n",
      "Epoch 17, CIFAR-10 Batch 4:  Loss=0.4719834327697754 ValidationAccuracy=0.599399983882904\n",
      "Epoch 17, CIFAR-10 Batch 5:  Loss=0.4407426416873932 ValidationAccuracy=0.61080002784729\n",
      "Epoch 18, CIFAR-10 Batch 1:  Loss=0.4134935140609741 ValidationAccuracy=0.6126000285148621\n",
      "Epoch 18, CIFAR-10 Batch 2:  Loss=0.41787928342819214 ValidationAccuracy=0.61080002784729\n",
      "Epoch 18, CIFAR-10 Batch 3:  Loss=0.4080875515937805 ValidationAccuracy=0.6014000177383423\n",
      "Epoch 18, CIFAR-10 Batch 4:  Loss=0.45087355375289917 ValidationAccuracy=0.5770000219345093\n",
      "Epoch 18, CIFAR-10 Batch 5:  Loss=0.4036312997341156 ValidationAccuracy=0.6129999756813049\n",
      "Epoch 19, CIFAR-10 Batch 1:  Loss=0.37946298718452454 ValidationAccuracy=0.616599977016449\n",
      "Epoch 19, CIFAR-10 Batch 2:  Loss=0.3663347661495209 ValidationAccuracy=0.6159999966621399\n",
      "Epoch 19, CIFAR-10 Batch 3:  Loss=0.39352384209632874 ValidationAccuracy=0.5997999906539917\n",
      "Epoch 19, CIFAR-10 Batch 4:  Loss=0.3487216830253601 ValidationAccuracy=0.5992000102996826\n",
      "Epoch 19, CIFAR-10 Batch 5:  Loss=0.40418776869773865 ValidationAccuracy=0.5856000185012817\n",
      "Epoch 20, CIFAR-10 Batch 1:  Loss=0.3764338195323944 ValidationAccuracy=0.5989999771118164\n",
      "Epoch 20, CIFAR-10 Batch 2:  Loss=0.3691045939922333 ValidationAccuracy=0.6057999730110168\n",
      "Epoch 20, CIFAR-10 Batch 3:  Loss=0.34152331948280334 ValidationAccuracy=0.6078000068664551\n",
      "Epoch 20, CIFAR-10 Batch 4:  Loss=0.35100850462913513 ValidationAccuracy=0.5893999934196472\n",
      "Epoch 20, CIFAR-10 Batch 5:  Loss=0.36235511302948 ValidationAccuracy=0.5920000076293945\n",
      "Epoch 21, CIFAR-10 Batch 1:  Loss=0.35310354828834534 ValidationAccuracy=0.5960000157356262\n",
      "Epoch 21, CIFAR-10 Batch 2:  Loss=0.34624385833740234 ValidationAccuracy=0.5950000286102295\n",
      "Epoch 21, CIFAR-10 Batch 3:  Loss=0.29410994052886963 ValidationAccuracy=0.6227999925613403\n",
      "Epoch 21, CIFAR-10 Batch 4:  Loss=0.3504348397254944 ValidationAccuracy=0.597000002861023\n",
      "Epoch 21, CIFAR-10 Batch 5:  Loss=0.30296409130096436 ValidationAccuracy=0.6055999994277954\n",
      "Epoch 22, CIFAR-10 Batch 1:  Loss=0.33014753460884094 ValidationAccuracy=0.602400004863739\n",
      "Epoch 22, CIFAR-10 Batch 2:  Loss=0.35150831937789917 ValidationAccuracy=0.5956000089645386\n",
      "Epoch 22, CIFAR-10 Batch 3:  Loss=0.2974800765514374 ValidationAccuracy=0.620199978351593\n",
      "Epoch 22, CIFAR-10 Batch 4:  Loss=0.2794076204299927 ValidationAccuracy=0.6140000224113464\n",
      "Epoch 22, CIFAR-10 Batch 5:  Loss=0.285324364900589 ValidationAccuracy=0.6079999804496765\n",
      "Epoch 23, CIFAR-10 Batch 1:  Loss=0.29172468185424805 ValidationAccuracy=0.6037999987602234\n",
      "Epoch 23, CIFAR-10 Batch 2:  Loss=0.2718358039855957 ValidationAccuracy=0.6212000250816345\n",
      "Epoch 23, CIFAR-10 Batch 3:  Loss=0.31271106004714966 ValidationAccuracy=0.6033999919891357\n",
      "Epoch 23, CIFAR-10 Batch 4:  Loss=0.2719358801841736 ValidationAccuracy=0.6096000075340271\n",
      "Epoch 23, CIFAR-10 Batch 5:  Loss=0.21222716569900513 ValidationAccuracy=0.6281999945640564\n",
      "Epoch 24, CIFAR-10 Batch 1:  Loss=0.20750883221626282 ValidationAccuracy=0.6161999702453613\n",
      "Epoch 24, CIFAR-10 Batch 2:  Loss=0.24624952673912048 ValidationAccuracy=0.6083999872207642\n",
      "Epoch 24, CIFAR-10 Batch 3:  Loss=0.2704804837703705 ValidationAccuracy=0.603600025177002\n",
      "Epoch 24, CIFAR-10 Batch 4:  Loss=0.2697901725769043 ValidationAccuracy=0.5952000021934509\n",
      "Epoch 24, CIFAR-10 Batch 5:  Loss=0.20520511269569397 ValidationAccuracy=0.6190000176429749\n",
      "Epoch 25, CIFAR-10 Batch 1:  Loss=0.19547486305236816 ValidationAccuracy=0.6164000034332275\n",
      "Epoch 25, CIFAR-10 Batch 2:  Loss=0.2064063847064972 ValidationAccuracy=0.6200000047683716\n",
      "Epoch 25, CIFAR-10 Batch 3:  Loss=0.22898490726947784 ValidationAccuracy=0.6057999730110168\n",
      "Epoch 25, CIFAR-10 Batch 4:  Loss=0.24398469924926758 ValidationAccuracy=0.5956000089645386\n",
      "Epoch 25, CIFAR-10 Batch 5:  Loss=0.18794895708560944 ValidationAccuracy=0.6159999966621399\n"
     ]
    }
   ],
   "source": [
    "\"\"\"\n",
    "DON'T MODIFY ANYTHING IN THIS CELL\n",
    "\"\"\"\n",
    "save_model_path = './image_classification'\n",
    "\n",
    "print('Training...')\n",
    "with tf.Session() as sess:\n",
    "    # Initializing the variables\n",
    "    sess.run(tf.global_variables_initializer())\n",
    "    \n",
    "    # Training cycle\n",
    "    for epoch in range(epochs):\n",
    "        # Loop over all batches\n",
    "        n_batches = 5\n",
    "        for batch_i in range(1, n_batches + 1):\n",
    "            for batch_features, batch_labels in helper.load_preprocess_training_batch(batch_i, batch_size):\n",
    "                train_neural_network(sess, optimizer, keep_probability, batch_features, batch_labels)\n",
    "            print('Epoch {:>2}, CIFAR-10 Batch {}:  '.format(epoch + 1, batch_i), end='')\n",
    "            print_stats(sess, batch_features, batch_labels, cost, accuracy)\n",
    "            \n",
    "    # Save Model\n",
    "    saver = tf.train.Saver()\n",
    "    save_path = saver.save(sess, save_model_path)"
   ]
  },
  {
   "cell_type": "markdown",
   "metadata": {},
   "source": [
    "# Checkpoint\n",
    "The model has been saved to disk.\n",
    "## Test Model\n",
    "Test your model against the test dataset.  This will be your final accuracy. You should have an accuracy greater than 50%. If you don't, keep tweaking the model architecture and parameters."
   ]
  },
  {
   "cell_type": "code",
   "execution_count": 18,
   "metadata": {
    "collapsed": false
   },
   "outputs": [
    {
     "name": "stdout",
     "output_type": "stream",
     "text": [
      "INFO:tensorflow:Restoring parameters from ./image_classification\n",
      "Testing Accuracy: 0.6100870847702027\n",
      "\n"
     ]
    },
    {
     "data": {
      "image/png": "[encoded data removed]",
      "text/plain": [
       "<matplotlib.figure.Figure at 0x38146d8>"
      ]
     },
     "metadata": {
      "image/png": {
       "height": 319,
       "width": 355
      }
     },
     "output_type": "display_data"
    }
   ],
   "source": [
    "\"\"\"\n",
    "DON'T MODIFY ANYTHING IN THIS CELL\n",
    "\"\"\"\n",
    "%matplotlib inline\n",
    "%config InlineBackend.figure_format = 'retina'\n",
    "\n",
    "import tensorflow as tf\n",
    "import pickle\n",
    "import helper\n",
    "import random\n",
    "\n",
    "# Set batch size if not already set\n",
    "try:\n",
    "    if batch_size:\n",
    "        pass\n",
    "except NameError:\n",
    "    batch_size = 64\n",
    "\n",
    "save_model_path = './image_classification'\n",
    "n_samples = 4\n",
    "top_n_predictions = 3\n",
    "\n",
    "def test_model():\n",
    "    \"\"\"\n",
    "    Test the saved model against the test dataset\n",
    "    \"\"\"\n",
    "\n",
    "    test_features, test_labels = pickle.load(open('preprocess_training.p', mode='rb'))\n",
    "    loaded_graph = tf.Graph()\n",
    "\n",
    "    with tf.Session(graph=loaded_graph) as sess:\n",
    "        # Load model\n",
    "        loader = tf.train.import_meta_graph(save_model_path + '.meta')\n",
    "        loader.restore(sess, save_model_path)\n",
    "\n",
    "        # Get Tensors from loaded model\n",
    "        loaded_x = loaded_graph.get_tensor_by_name('x:0')\n",
    "        loaded_y = loaded_graph.get_tensor_by_name('y:0')\n",
    "        loaded_keep_prob = loaded_graph.get_tensor_by_name('keep_prob:0')\n",
    "        loaded_logits = loaded_graph.get_tensor_by_name('logits:0')\n",
    "        loaded_acc = loaded_graph.get_tensor_by_name('accuracy:0')\n",
    "        \n",
    "        # Get accuracy in batches for memory limitations\n",
    "        test_batch_acc_total = 0\n",
    "        test_batch_count = 0\n",
    "        \n",
    "        for train_feature_batch, train_label_batch in helper.batch_features_labels(test_features, test_labels, batch_size):\n",
    "            test_batch_acc_total += sess.run(\n",
    "                loaded_acc,\n",
    "                feed_dict={loaded_x: train_feature_batch, loaded_y: train_label_batch, loaded_keep_prob: 1.0})\n",
    "            test_batch_count += 1\n",
    "\n",
    "        print('Testing Accuracy: {}\\n'.format(test_batch_acc_total/test_batch_count))\n",
    "\n",
    "        # Print Random Samples\n",
    "        random_test_features, random_test_labels = tuple(zip(*random.sample(list(zip(test_features, test_labels)), n_samples)))\n",
    "        random_test_predictions = sess.run(\n",
    "            tf.nn.top_k(tf.nn.softmax(loaded_logits), top_n_predictions),\n",
    "            feed_dict={loaded_x: random_test_features, loaded_y: random_test_labels, loaded_keep_prob: 1.0})\n",
    "        helper.display_image_predictions(random_test_features, random_test_labels, random_test_predictions)\n",
    "\n",
    "\n",
    "test_model()"
   ]
  },
  {
   "cell_type": "markdown",
   "metadata": {},
   "source": [
    "## Why 50-80% Accuracy?\n",
    "You might be wondering why you can't get an accuracy any higher. First things first, 50% isn't bad for a simple CNN.  Pure guessing would get you 10% accuracy. That's because there are many more techniques that can be applied to your model and we recemmond that once you are done with this project, you explore!\n",
    "\n",
    "## Submitting This Project\n",
    "When submitting this project, make sure to run all the cells before saving the notebook.  Save the notebook file as \"image_classification.ipynb\" and save it as a HTML file under \"File\" -> \"Download as\".  Include the \"helper.py\" and \"problem_unittests.py\" files in your submission."
   ]
  }
 ],
 "metadata": {
  "anaconda-cloud": {},
  "kernelspec": {
   "display_name": "Python [conda env:tensorflow]",
   "language": "python",
   "name": "conda-env-tensorflow-py"
  },
  "language_info": {
   "codemirror_mode": {
    "name": "ipython",
    "version": 3
   },
   "file_extension": ".py",
   "mimetype": "text/x-python",
   "name": "python",
   "nbconvert_exporter": "python",
   "pygments_lexer": "ipython3",
   "version": "3.5.3"
  }
 },
 "nbformat": 4,
 "nbformat_minor": 0
}
